{
 "cells": [
  {
   "cell_type": "code",
   "execution_count": 1,
   "metadata": {},
   "outputs": [],
   "source": [
    "from data.buttons import buttons"
   ]
  },
  {
   "cell_type": "code",
   "execution_count": 14,
   "metadata": {},
   "outputs": [],
   "source": [
    "button_dict = {label: message for label, message in buttons}"
   ]
  },
  {
   "cell_type": "code",
   "execution_count": 15,
   "metadata": {},
   "outputs": [
    {
     "name": "stdout",
     "output_type": "stream",
     "text": [
      "{'Receiving': 'Receiving Clicked', 'Storage': 'Receiving Clicked', 'Picking': 'Receiving Clicked', 'Packing': 'Receiving Clicked', 'Slotting': 'Receiving Clicked', 'Despatch': 'Receiving Clicked', 'Adjustments': 'Receiving Clicked', 'Ordering': 'Receiving Clicked', 'Order Confirmation': 'Receiving Clicked', 'Loading': 'Receiving Clicked'}\n"
     ]
    }
   ],
   "source": [
    "print(button_dict)"
   ]
  },
  {
   "cell_type": "code",
   "execution_count": 8,
   "metadata": {},
   "outputs": [
    {
     "data": {
      "text/plain": [
       "[('Receiving', 'Receiving Clicked'),\n",
       " ('Storage', 'Receiving Clicked'),\n",
       " ('Picking', 'Receiving Clicked'),\n",
       " ('Packing', 'Receiving Clicked'),\n",
       " ('Slotting', 'Receiving Clicked'),\n",
       " ('Despatch', 'Receiving Clicked'),\n",
       " ('Adjustments', 'Receiving Clicked'),\n",
       " ('Ordering', 'Receiving Clicked'),\n",
       " ('Order Confirmation', 'Receiving Clicked'),\n",
       " ('Loading', 'Receiving Clicked')]"
      ]
     },
     "execution_count": 8,
     "metadata": {},
     "output_type": "execute_result"
    }
   ],
   "source": [
    "buttons"
   ]
  },
  {
   "cell_type": "code",
   "execution_count": null,
   "metadata": {},
   "outputs": [],
   "source": []
  }
 ],
 "metadata": {
  "kernelspec": {
   "display_name": "Python 3",
   "language": "python",
   "name": "python3"
  },
  "language_info": {
   "codemirror_mode": {
    "name": "ipython",
    "version": 3
   },
   "file_extension": ".py",
   "mimetype": "text/x-python",
   "name": "python",
   "nbconvert_exporter": "python",
   "pygments_lexer": "ipython3",
   "version": "3.8.10"
  }
 },
 "nbformat": 4,
 "nbformat_minor": 2
}
